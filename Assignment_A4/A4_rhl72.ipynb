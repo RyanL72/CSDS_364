{
 "cells": [
  {
   "cell_type": "markdown",
   "metadata": {},
   "source": [
    "# A4 Sounds and Spectra"
   ]
  },
  {
   "cell_type": "markdown",
   "metadata": {},
   "source": [
    "## Harmonics\n",
    "\n",
    "Harmonics are combinations of frequenies that is an integer multiple of a fundamental frequency.\n",
    "\n",
    "$$\n",
    "f_n = n f_n\n",
    "$$\n",
    "\n",
    "and they increment like the first harmonic to second harmonic in a linear pattern.\n",
    "\n",
    "$$\n",
    "f_2 = 2f_1\n",
    "$$\n",
    "\n",
    "Harmonics arise from modes of vibration of a physical objects or resonant acvities. \n",
    "\n",
    "`Pure Tone`~ A sound composed of a single frequency."
   ]
  }
 ],
 "metadata": {
  "language_info": {
   "name": "python"
  }
 },
 "nbformat": 4,
 "nbformat_minor": 2
}
