{
 "cells": [
  {
   "cell_type": "markdown",
   "metadata": {},
   "source": [
    "# Assignment A1b - Functions and Computation\n",
    "---\n",
    "### Ryan Lin\n"
   ]
  },
  {
   "cell_type": "code",
   "execution_count": 1,
   "metadata": {},
   "outputs": [],
   "source": [
    "import pandas as pd\n",
    "import matplotlib.pyplot as plt\n",
    "import numpy as np\n"
   ]
  },
  {
   "cell_type": "markdown",
   "metadata": {},
   "source": [
    "## 1a sinewave"
   ]
  },
  {
   "cell_type": "code",
   "execution_count": 4,
   "metadata": {},
   "outputs": [],
   "source": [
    "def sinewave(t, f=1.0, d=0.0):\n",
    "    return np.sin(2 * np.pi * f * t + d)\n"
   ]
  },
  {
   "cell_type": "markdown",
   "metadata": {},
   "source": [
    "## 1b gabor\n"
   ]
  },
  {
   "cell_type": "markdown",
   "metadata": {},
   "source": [
    "spatial signal"
   ]
  },
  {
   "cell_type": "code",
   "execution_count": 5,
   "metadata": {},
   "outputs": [],
   "source": [
    "def gabor(t, f=1.0, sigma=1.0, d=0.0, a=1.0):\n",
    "    gaussian_envolope = np.exp(-t**2 / (2 * sigma**2))\n",
    "    sinusoid = np.cos(2 * np.pi * f * t + d)\n",
    "    return a * gaussian_envolope * sinusoid\n",
    "\n"
   ]
  },
  {
   "cell_type": "code",
   "execution_count": null,
   "metadata": {},
   "outputs": [],
   "source": [
    "def gabore(t, f=1.0, sigma=1.0, a=1.0):\n",
    "    return gabor(t, f, sigma, 0.0, a) # delay is 0 for cosine\n",
    "\n",
    "def gaboro(t, f=1.0, sigma=1.0, a=1.0):\n",
    "    return gabor(t, f, sigma, np.pi/2, a) # delay is pi/2 for sine"
   ]
  },
  {
   "cell_type": "code",
   "execution_count": 6,
   "metadata": {},
   "outputs": [],
   "source": [
    "def gabor_norm(f=1.0, sigma=1.0, fs=1000):\n",
    "    t = np.linspace(-3 * sigma, 3 * sigma, int(6 * sigma * fs))\n",
    "    g = gabor(t, f, sigma, 0.0, 1.0)\n",
    "    return 1 / np.sqrt(np.sum(g**2))\n",
    "\n",
    "def gabore_norm(f=1.0, sigma=1.0, fs=1000):\n",
    "    return gabor_norm(f, sigma, fs)\n",
    "\n",
    "def gaboro_norm(f=1.0, sigma=1.0, fs=1000):\n",
    "    t = np.linspace(-3 * sigma, 3 * sigma, int(6 * sigma * fs))\n",
    "    g = gabor(t, f, sigma, np.pi/2, 1.0)\n",
    "    return 1 / np.sqrt(np.sum(g**2))"
   ]
  },
  {
   "cell_type": "markdown",
   "metadata": {},
   "source": [
    "## 1c gammatone"
   ]
  },
  {
   "cell_type": "markdown",
   "metadata": {},
   "source": [
    "cochlear signal"
   ]
  },
  {
   "cell_type": "code",
   "execution_count": 11,
   "metadata": {},
   "outputs": [],
   "source": [
    "def erb(f):\n",
    "    return 24.7*((4.37 * f)/1000) + 1\n",
    "\n",
    "def bandwidth(f):\n",
    "    return 1.019 * erb(f)\n",
    "\n",
    "def gammatone(t, f=1.0, n=4, d=0.0, a=1.0):\n",
    "    t = np.maximum(t,0) # t >= 0\n",
    "    b = bandwidth(f)\n",
    "    return a * (t**(n-1)) * np.exp(-2 * np.pi * b * t) * sinewave(t, f, np.pi/2) #cosine is 2 pi\n",
    "\n",
    "def gammatone_norm(f=1.0, n=4, fs=1000):\n",
    "    t = np.linspace(0, 0.1, int(0.1 * fs))  # 0 to 0.1 seconds\n",
    "    g = gammatone(t, f, n, 0.0, 1.0)\n",
    "    return 1 / np.sqrt(np.sum(g**2))\n"
   ]
  },
  {
   "cell_type": "code",
   "execution_count": null,
   "metadata": {},
   "outputs": [],
   "source": []
  }
 ],
 "metadata": {
  "kernelspec": {
   "display_name": "Python 3",
   "language": "python",
   "name": "python3"
  },
  "language_info": {
   "codemirror_mode": {
    "name": "ipython",
    "version": 3
   },
   "file_extension": ".py",
   "mimetype": "text/x-python",
   "name": "python",
   "nbconvert_exporter": "python",
   "pygments_lexer": "ipython3",
   "version": "3.10.0"
  }
 },
 "nbformat": 4,
 "nbformat_minor": 2
}
