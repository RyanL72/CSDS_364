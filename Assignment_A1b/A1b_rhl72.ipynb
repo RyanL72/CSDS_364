{
 "cells": [
  {
   "cell_type": "markdown",
   "metadata": {},
   "source": [
    "# Assignment A1b - Functions and Computation\n",
    "---\n",
    "### Ryan Lin\n"
   ]
  },
  {
   "cell_type": "markdown",
   "metadata": {},
   "source": [
    "## Imports"
   ]
  },
  {
   "cell_type": "code",
   "execution_count": 54,
   "metadata": {},
   "outputs": [],
   "source": [
    "#imports\n",
    "import pandas as pd\n",
    "import matplotlib.pyplot as plt\n",
    "import numpy as np\n"
   ]
  },
  {
   "cell_type": "markdown",
   "metadata": {},
   "source": [
    "## 1a sinewave"
   ]
  },
  {
   "cell_type": "code",
   "execution_count": 55,
   "metadata": {},
   "outputs": [],
   "source": [
    "#import sinewave\n",
    "from sinewave import sinewave"
   ]
  },
  {
   "cell_type": "code",
   "execution_count": 56,
   "metadata": {},
   "outputs": [
    {
     "data": {
      "text/plain": [
       "np.float64(-0.04997916927067833)"
      ]
     },
     "execution_count": 56,
     "metadata": {},
     "output_type": "execute_result"
    }
   ],
   "source": [
    "sinewave(0.0, f=5, d=0.05)\n"
   ]
  },
  {
   "cell_type": "code",
   "execution_count": null,
   "metadata": {},
   "outputs": [],
   "source": []
  },
  {
   "cell_type": "markdown",
   "metadata": {},
   "source": [
    "## 1b gabor\n"
   ]
  },
  {
   "cell_type": "markdown",
   "metadata": {},
   "source": [
    "spatial signal"
   ]
  },
  {
   "cell_type": "code",
   "execution_count": 57,
   "metadata": {},
   "outputs": [],
   "source": [
    "def gabor(t, f=1.0, sigma=1.0, d=0.0, a=1.0):\n",
    "    gaussian_envolope = np.exp(-t**2 / (2 * sigma**2))\n",
    "    sinusoid = np.cos(2 * np.pi * f * t + d)\n",
    "    return a * gaussian_envolope * sinusoid\n",
    "\n"
   ]
  },
  {
   "cell_type": "code",
   "execution_count": 58,
   "metadata": {},
   "outputs": [],
   "source": [
    "def gabore(t, f=1.0, sigma=1.0, a=1.0):\n",
    "    return gabor(t, f, sigma, 0.0, a) # delay is 0 for cosine\n",
    "\n",
    "def gaboro(t, f=1.0, sigma=1.0, a=1.0):\n",
    "    return gabor(t, f, sigma, np.pi/2, a) # delay is pi/2 for sine"
   ]
  },
  {
   "cell_type": "code",
   "execution_count": 59,
   "metadata": {},
   "outputs": [],
   "source": [
    "def gabor_norm(f=1.0, sigma=1.0, fs=1000):\n",
    "    t = np.linspace(-3 * sigma, 3 * sigma, int(6 * sigma * fs))\n",
    "    g = gabor(t, f, sigma, 0.0, 1.0)\n",
    "    return 1 / np.sqrt(np.sum(g**2))\n",
    "\n",
    "def gabore_norm(f=1.0, sigma=1.0, fs=1000):\n",
    "    return gabor_norm(f, sigma, fs)\n",
    "\n",
    "def gaboro_norm(f=1.0, sigma=1.0, fs=1000):\n",
    "    t = np.linspace(-3 * sigma, 3 * sigma, int(6 * sigma * fs))\n",
    "    g = gabor(t, f, sigma, np.pi/2, 1.0)\n",
    "    return 1 / np.sqrt(np.sum(g**2))"
   ]
  },
  {
   "cell_type": "markdown",
   "metadata": {},
   "source": [
    "## 1c gammatone"
   ]
  },
  {
   "cell_type": "markdown",
   "metadata": {},
   "source": [
    "cochlear signal"
   ]
  },
  {
   "cell_type": "code",
   "execution_count": 60,
   "metadata": {},
   "outputs": [],
   "source": [
    "def erb(f):\n",
    "    return 24.7*((4.37 * f)/1000) + 1\n",
    "\n",
    "def bandwidth(f):\n",
    "    return 1.019 * erb(f)\n",
    "\n",
    "def gammatone(t, f=1.0, n=4, d=0.0, a=1.0):\n",
    "    t = np.maximum(t,0) # t >= 0\n",
    "    b = bandwidth(f)\n",
    "    return a * (t**(n-1)) * np.exp(-2 * np.pi * b * t) * sinewave(t, f, np.pi/2) #cosine is 2 pi\n",
    "\n",
    "def gammatone_norm(f=1.0, n=4, fs=1000):\n",
    "    t = np.linspace(0, 0.1, int(0.1 * fs))  # 0 to 0.1 seconds\n",
    "    g = gammatone(t, f, n, 0.0, 1.0)\n",
    "    return 1 / np.sqrt(np.sum(g**2))\n"
   ]
  },
  {
   "cell_type": "markdown",
   "metadata": {},
   "source": [
    "## 2a localmaxima"
   ]
  },
  {
   "cell_type": "code",
   "execution_count": 61,
   "metadata": {},
   "outputs": [],
   "source": [
    "def localmaxima(signal):\n",
    "    \"\"\"\n",
    "    Find the indices of local maxima in a 1D signal.\n",
    "\n",
    "    Parameters:\n",
    "    signal : array-like\n",
    "        The input 1D array.\n",
    "\n",
    "    Returns:\n",
    "    list\n",
    "        A list of indices where local maxima occur.\n",
    "    \"\"\"\n",
    "    # Convert input to NumPy array for easy slicing\n",
    "    signal = np.asarray(signal)\n",
    "\n",
    "    # Initialize an empty list to store indices of local maxima\n",
    "    maxima_indices = []\n",
    "\n",
    "    # Iterate through the array, ignoring the first and last elements (edges)\n",
    "    for i in range(1, len(signal) - 1):\n",
    "        # Check if the current element is a local maximum\n",
    "        if signal[i - 1] < signal[i] > signal[i + 1]:\n",
    "            maxima_indices.append(i)\n",
    "\n",
    "    return maxima_indices\n"
   ]
  },
  {
   "cell_type": "markdown",
   "metadata": {},
   "source": [
    "## 2b crossings"
   ]
  },
  {
   "cell_type": "code",
   "execution_count": 62,
   "metadata": {},
   "outputs": [],
   "source": [
    "def threshold_crossings(signal, threshold, direction=\"both\"):\n",
    "    \"\"\"\n",
    "    Find the indices of threshold crossings in a 1D signal.\n",
    "\n",
    "    Parameters:\n",
    "    signal : array-like\n",
    "        The input 1D array.\n",
    "    threshold : float\n",
    "        The threshold value to check crossings against.\n",
    "    direction : str, optional\n",
    "        The direction of the crossings to detect:\n",
    "        - \"negpos\": Crossings from below the threshold to equal to or greater than the threshold.\n",
    "        - \"posneg\": Crossings from equal to or greater than the threshold to below the threshold.\n",
    "        - \"both\": Crossings in either direction.\n",
    "        Default is \"both\".\n",
    "\n",
    "    Returns:\n",
    "    numpy.ndarray\n",
    "        An array of indices where threshold crossings occur.\n",
    "    \"\"\"\n",
    "    # Convert signal to a NumPy array\n",
    "    signal = np.asarray(signal)\n",
    "    \n",
    "    # Initialize crossings\n",
    "    crossings = []\n",
    "\n",
    "    # Compute the conditions for each direction\n",
    "    if direction == \"negpos\":\n",
    "        # Crossing from below to above or equal\n",
    "        crossings = np.where((signal[:-1] < threshold) & (signal[1:] >= threshold))[0] + 1\n",
    "    elif direction == \"posneg\":\n",
    "        # Crossing from above or equal to below\n",
    "        crossings = np.where((signal[:-1] >= threshold) & (signal[1:] < threshold))[0] + 1\n",
    "    elif direction == \"both\":\n",
    "        # Crossing in either direction\n",
    "        negpos_crossings = np.where((signal[:-1] < threshold) & (signal[1:] >= threshold))[0] + 1\n",
    "        posneg_crossings = np.where((signal[:-1] >= threshold) & (signal[1:] < threshold))[0] + 1\n",
    "        crossings = np.sort(np.concatenate((negpos_crossings, posneg_crossings)))\n",
    "    else:\n",
    "        raise ValueError(\"Invalid direction. Must be 'negpos', 'posneg', or 'both'.\")\n",
    "\n",
    "    return crossings\n"
   ]
  },
  {
   "cell_type": "markdown",
   "metadata": {},
   "source": [
    "## 2c envelope"
   ]
  },
  {
   "cell_type": "code",
   "execution_count": 63,
   "metadata": {},
   "outputs": [],
   "source": [
    "def envelope(y, nblocks=None):\n",
    "    \"\"\"\n",
    "    Compute the lower and upper bounds of a waveform in `nblocks` blocks.\n",
    "\n",
    "    Parameters:\n",
    "    y : array-like\n",
    "        The input waveform or vector.\n",
    "    nblocks : int, optional\n",
    "        Number of blocks to divide `y` into. Default is 1/10th the length of `y`.\n",
    "\n",
    "    Returns:\n",
    "    tuple:\n",
    "        - ylower : numpy.ndarray\n",
    "            Array of lower bounds for each block.\n",
    "        - yupper : numpy.ndarray\n",
    "            Array of upper bounds for each block.\n",
    "        - blockindices : numpy.ndarray\n",
    "            Array of starting indices for each block.\n",
    "    \"\"\"\n",
    "    # Convert input to a NumPy array\n",
    "    y = np.asarray(y)\n",
    "    \n",
    "    # Set default for `nblocks` if not provided\n",
    "    if nblocks is None:\n",
    "        nblocks = max(1, len(y) // 10)  # Default to 1/10th the length of `y`\n",
    "\n",
    "    # Compute the size of each block\n",
    "    block_size = len(y) // nblocks\n",
    "\n",
    "    # Compute the starting indices for each block\n",
    "    blockindices = np.arange(0, len(y), block_size)\n",
    "\n",
    "    # Initialize lower and upper bounds arrays\n",
    "    ylower = []\n",
    "    yupper = []\n",
    "\n",
    "    # Compute lower and upper bounds for each block\n",
    "    for i in range(len(blockindices)):\n",
    "        start = blockindices[i]\n",
    "        end = blockindices[i + 1] if i + 1 < len(blockindices) else len(y)  # Handle last block\n",
    "        block = y[start:end]\n",
    "        ylower.append(np.min(block))  # Lower bound\n",
    "        yupper.append(np.max(block))  # Upper bound\n",
    "\n",
    "    return np.array(ylower), np.array(yupper), blockindices\n"
   ]
  }
 ],
 "metadata": {
  "kernelspec": {
   "display_name": "Python 3",
   "language": "python",
   "name": "python3"
  },
  "language_info": {
   "codemirror_mode": {
    "name": "ipython",
    "version": 3
   },
   "file_extension": ".py",
   "mimetype": "text/x-python",
   "name": "python",
   "nbconvert_exporter": "python",
   "pygments_lexer": "ipython3",
   "version": "3.9.6"
  }
 },
 "nbformat": 4,
 "nbformat_minor": 2
}
